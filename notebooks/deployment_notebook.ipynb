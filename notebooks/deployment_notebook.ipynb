{
 "cells": [
  {
   "cell_type": "markdown",
   "id": "6b560a5a-939b-42c1-89fd-511702331b68",
   "metadata": {},
   "source": [
    "<img src=\"../figures/header.jpg\" style=\"display:block; margin:auto; width:55%; height:210px;\">\n",
    "\n",
    "<br><br> \n",
    "\n",
    "<p style=\"text-align:center; background-color: darkgray; color: lightyellow; border-radius:10px; line-height:1.4; font-size:32px; font-weight:bold; padding: 9px;\">\n",
    "            <strong>Dog Breed Image Classification</strong>\n",
    "</p>  \n",
    "  \n",
    "<p style=\"text-align:center; color: Black; border-radius:10px; font-family:helvetica; line-height:1.0; font-size:28px; font-weight:normal; text-transform: capitalize; padding: 5px;\">\n",
    "    End-to-end Deep Learning Project for\n",
    "    <br>Dog Breed Multi-Class Image Classification:\n",
    "    <br>EDA, Transfer Learning, Fine-Tuning, and Model Deployment\n",
    "</p>    "
   ]
  },
  {
   "cell_type": "markdown",
   "id": "692489f8-7184-4a07-985f-d14d67db85a4",
   "metadata": {},
   "source": [
    "# 1. Introduction"
   ]
  },
  {
   "cell_type": "markdown",
   "id": "273dc458-ffd3-49a3-95e6-f2c0d1fcef22",
   "metadata": {},
   "source": [
    "## 1.1 Background"
   ]
  },
  {
   "cell_type": "markdown",
   "id": "ef14abc9-1386-481c-a41f-7bee58469f6b",
   "metadata": {},
   "source": [
    "In recent years, the canine population has witnessed a surge in the number of mixed-breed dogs. While the charm of mixed-breed dogs lies in their one-of-a-kind characteristics, the increasing variety poses challenges when it comes to identifying their specific breeds. This is where a classification model proves to be invaluable.\n",
    "\n",
    "Creating a classification model for identifying breeds of dogs can serve various purposes including:\n",
    "- Lost and found services to help efficiently reunite lost dogs with owners.\n",
    "- Educational tools through interactive websites or mobile applications to learn about different breeds.\n",
    "- Pet adoption platforms to identify breeds within shelters, enhancing adoptiong and rehoming processes.\n",
    "- Dog shows and competitions to assist judges in verifying participating dog breeds.\n",
    "\n",
    "In the accompanying [modeling_notebook](modeling_notebook), our study explores the multi-class [stanford dogs image dataset](https://www.kaggle.com/datasets/jessicali9530/stanford-dogs-dataset), then uses transfer learning to train and fine-tune four modern neural network architectures. We'll use built-in [Keras applications](https://keras.io/api/applications) to use architectures with pre-trained ImageNet weights for the following models: \n",
    "- [xception](https://arxiv.org/abs/1610.02357)\n",
    "- [InceptionResNetV2](https://arxiv.org/abs/1602.07261)\n",
    "- [EfficientNetB3](https://arxiv.org/abs/1905.11946)\n",
    "- [ConvNeXtSmall](https://arxiv.org/abs/2201.03545)\n",
    "\n",
    "In this notebook, we show:\n",
    "- **Serverless Deployment**: Save the best model with tensorflow lite, create a docker image for the environment with minimized dependencies, and deploy it to the cloud using AWS Lambda\n",
    "- **Kubernetes Deployment**: Convert the model to tensorflow format, set up a flask application, build docker images for them, and deploy the full application to AWS EKS. \n",
    "- **Front-end Application**: Create a low-code front-end for our application using streamlit and connect it to the cloud-deployed AWS services.\n",
    "\n",
    "The full framework for that you will complete through both notebooks for this project is shown below:\n",
    "\n",
    "<img src=\"../figures/dog-prediction-framework.PNG\" width=\"700\">\n"
   ]
  },
  {
   "cell_type": "markdown",
   "id": "5e4681f2-2c54-4689-8ac5-736d24699784",
   "metadata": {},
   "source": [
    "## 1.2 Table of Contents."
   ]
  },
  {
   "attachments": {},
   "cell_type": "markdown",
   "id": "e63ab58b-9e0e-4c13-b6ab-eae11ac17d4b",
   "metadata": {},
   "source": [
    "### 1. Introduction\n",
    "- 1.1 - Description of the project methodology and real world use-case.\n",
    "- 1.2 - Table of contents **(We Are Here)**\n",
    "- 1.3 - Import statements for all dependencies. This section **must** be run before executing the rest of the project.\n",
    "### 2. Serverless AWS Deployment\n",
    "   - 2.1 - Save trained EfficientNetB3V2 model to tflite for deployment\n",
    "   - 2.2 - Local deployment with docker\n",
    "### 3. Kubernetes Deployment\n",
    "   - 2.1 - Save trained EfficientNetB3V2 model to tensorflow\n",
    "   - 3.1 - Local deployment with docker\n",
    "### 4. Application Deployment\n",
    "   - 4.1 - Application deployment with streamlit"
   ]
  },
  {
   "cell_type": "markdown",
   "id": "17cd4616-0c3b-4d79-8cd6-a14c5cfbe5c7",
   "metadata": {},
   "source": [
    "## 1.3 Import Statements"
   ]
  },
  {
   "cell_type": "markdown",
   "id": "8dc2ba8e-2d96-4dd7-b114-6973b0e51fab",
   "metadata": {},
   "source": [
    "Ensure that your python version and package versions match the following notebook output before proceeding, as some versions of python, scikit-learn and tensorflow are incompatible with the project."
   ]
  },
  {
   "cell_type": "code",
   "execution_count": 1,
   "id": "2ff3a164-92f6-4365-8003-568284e7e92b",
   "metadata": {},
   "outputs": [],
   "source": [
    "# model saving\n",
    "import tensorflow as tf\n",
    "from tensorflow import keras\n",
    "import os\n",
    "import tensorflow.lite as tflite\n",
    "from tensorflow.keras.preprocessing.image import load_img\n",
    "\n",
    "# model analysis\n",
    "import numpy as np\n",
    "import matplotlib.pyplot as plt\n",
    "\n",
    "# cluster deployment\n",
    "import grpc\n",
    "from tensorflow_serving.apis import predict_pb2\n",
    "from tensorflow_serving.apis import prediction_service_pb2_grpc\n",
    "\n",
    "# sending requests to deployed models\n",
    "import requests\n",
    "import base64\n",
    "from io import BytesIO\n",
    "from PIL import Image\n",
    "from urllib import request\n",
    "from argparse import ArgumentParser"
   ]
  },
  {
   "cell_type": "code",
   "execution_count": 2,
   "id": "e5add23a-0596-4c43-919f-f778e24b36c9",
   "metadata": {},
   "outputs": [
    {
     "name": "stdout",
     "output_type": "stream",
     "text": [
      "-----\n",
      "PIL                 10.2.0\n",
      "grpc                1.42.0\n",
      "keras               2.10.0\n",
      "matplotlib          3.8.2\n",
      "numpy               1.26.4\n",
      "requests            2.31.0\n",
      "session_info        1.0.0\n",
      "tensorflow          2.10.1\n",
      "tensorflow_serving  NA\n",
      "-----\n",
      "IPython             8.21.0\n",
      "jupyter_client      8.6.0\n",
      "jupyter_core        5.7.1\n",
      "jupyterlab          4.1.0\n",
      "-----\n",
      "Python 3.10.13 | packaged by Anaconda, Inc. | (main, Sep 11 2023, 13:24:38) [MSC v.1916 64 bit (AMD64)]\n",
      "Windows-10-10.0.19045-SP0\n",
      "-----\n",
      "Session information updated at 2024-02-18 11:08\n"
     ]
    }
   ],
   "source": [
    "import session_info\n",
    "session_info.show(html=False)"
   ]
  },
  {
   "cell_type": "markdown",
   "id": "d2bfc6cb",
   "metadata": {},
   "source": [
    "# 2. Serverless AWS Deployment"
   ]
  },
  {
   "cell_type": "markdown",
   "id": "4886f2b5",
   "metadata": {},
   "source": [
    "The following helper functions post a sample image to the local and cloud deployed functions"
   ]
  },
  {
   "cell_type": "code",
   "execution_count": 26,
   "id": "223197c2",
   "metadata": {},
   "outputs": [],
   "source": [
    "def download_image(url):\n",
    "    with request.urlopen(url) as resp:\n",
    "        buffer = resp.read()\n",
    "    stream = BytesIO(buffer)\n",
    "    img = Image.open(stream)\n",
    "    return img"
   ]
  },
  {
   "cell_type": "code",
   "execution_count": 27,
   "id": "cc408a6f",
   "metadata": {},
   "outputs": [],
   "source": [
    "def test(test_type=\"lambda\"):\n",
    "    if test_type == \"local\":\n",
    "        post_url = 'http://localhost:8080/2015-03-31/functions/function/invocations'\n",
    "    elif test_type == \"lambda\":\n",
    "        post_url = \"https://4bfnidjam6.execute-api.us-east-1.amazonaws.com/deploy-1/predict\"\n",
    "    else:\n",
    "        return Null\n",
    "    \n",
    "    image_url = \"https://upload.wikimedia.org/wikipedia/commons/4/4b/Golden_retriever_running_on_a_dirt_road.jpg\"\n",
    "    \n",
    "    img = download_image(image_url)\n",
    "    \n",
    "    img = img.resize((299, 299), Image.NEAREST)\n",
    "    bytes=img.tobytes()\n",
    "    decoded_image = base64.b64encode(bytes).decode(\"utf8\")\n",
    "\n",
    "    data = {'image': decoded_image, 'size': img.size}\n",
    "    result = requests.post(post_url, json=data).json()\n",
    "\n",
    "    print(result)"
   ]
  },
  {
   "cell_type": "markdown",
   "id": "002c874f",
   "metadata": {},
   "source": [
    "## 2.1 Save model to tf-lite"
   ]
  },
  {
   "cell_type": "markdown",
   "id": "3c4c84a8-468f-4322-b510-1aa3bcf78f50",
   "metadata": {},
   "source": [
    "### Save model to tflite"
   ]
  },
  {
   "cell_type": "code",
   "execution_count": 8,
   "id": "d48ae5e8-6ec8-4f29-baa1-c0873638d47f",
   "metadata": {},
   "outputs": [],
   "source": [
    "path = os.path.join('..', 'models', 'effnetV2B3_model.keras')\n",
    "effnetB3_model = keras.models.load_model(path)"
   ]
  },
  {
   "cell_type": "code",
   "execution_count": 9,
   "id": "8b411d23-4015-4ced-82e4-ad7bd5a8c3d7",
   "metadata": {
    "scrolled": true
   },
   "outputs": [
    {
     "name": "stderr",
     "output_type": "stream",
     "text": [
      "WARNING:absl:Found untraced functions such as _jit_compiled_convolution_op, _jit_compiled_convolution_op, _jit_compiled_convolution_op, _jit_compiled_convolution_op, _jit_compiled_convolution_op while saving (showing 5 of 136). These functions will not be directly callable after loading.\n"
     ]
    },
    {
     "name": "stdout",
     "output_type": "stream",
     "text": [
      "INFO:tensorflow:Assets written to: C:\\Users\\lenni\\AppData\\Local\\Temp\\tmpr38jhcpd\\assets\n"
     ]
    },
    {
     "name": "stderr",
     "output_type": "stream",
     "text": [
      "INFO:tensorflow:Assets written to: C:\\Users\\lenni\\AppData\\Local\\Temp\\tmpr38jhcpd\\assets\n"
     ]
    }
   ],
   "source": [
    "converter = tf.lite.TFLiteConverter.from_keras_model(effnetB3_model)\n",
    "\n",
    "tflite_model = converter.convert()\n",
    "outpath = os.path.join('..', 'models', 'model.tflite')\n",
    "\n",
    "with open(outpath, 'wb') as f_out:\n",
    "    f_out.write(tflite_model)"
   ]
  },
  {
   "cell_type": "markdown",
   "id": "1b3098a4-946a-4bbc-b4ff-76ab4ebb1714",
   "metadata": {},
   "source": [
    "### Test tflite model"
   ]
  },
  {
   "cell_type": "code",
   "execution_count": 32,
   "id": "a594ec79-4166-4958-a45e-0efa6e92be12",
   "metadata": {},
   "outputs": [],
   "source": [
    "from tensorflow.keras.applications.efficientnet_v2 import preprocess_input\n",
    "\n",
    "image = os.path.join('..', 'data', 'images', 'Images', 'n02085620-Chihuahua', 'n02085620_199.jpg')\n",
    "img = load_img(image, target_size=(299,299))\n",
    "X = preprocess_input(np.array([img], dtype='float32'))"
   ]
  },
  {
   "cell_type": "code",
   "execution_count": 33,
   "id": "61e7652a-f271-4ef2-b0a2-81dbad3535f6",
   "metadata": {},
   "outputs": [
    {
     "data": {
      "text/plain": [
       "(1, 299, 299, 3)"
      ]
     },
     "execution_count": 33,
     "metadata": {},
     "output_type": "execute_result"
    }
   ],
   "source": [
    "X.shape"
   ]
  },
  {
   "cell_type": "code",
   "execution_count": 34,
   "id": "04d8d66c-efa9-45fc-ac8e-eeb5c40da4d6",
   "metadata": {},
   "outputs": [
    {
     "data": {
      "text/plain": [
       "<matplotlib.image.AxesImage at 0x22120cfffa0>"
      ]
     },
     "execution_count": 34,
     "metadata": {},
     "output_type": "execute_result"
    },
    {
     "data": {
      "image/png": "[encoded data removed]",
      "text/plain": [
       "<Figure size 400x400 with 1 Axes>"
      ]
     },
     "metadata": {},
     "output_type": "display_data"
    }
   ],
   "source": [
    "fig, axs = plt.subplots(1,1, figsize=(4,4))\n",
    "axs.imshow(img)"
   ]
  },
  {
   "cell_type": "code",
   "execution_count": 35,
   "id": "58f6f972-2e5e-46a8-bae3-b7132895cead",
   "metadata": {},
   "outputs": [],
   "source": [
    "# load tflite model\n",
    "interpreter = tflite.Interpreter(model_path=outpath)\n",
    "interpreter.allocate_tensors()"
   ]
  },
  {
   "cell_type": "code",
   "execution_count": 36,
   "id": "698163d8-e4c4-412f-a20a-90c2d9184a21",
   "metadata": {},
   "outputs": [
    {
     "data": {
      "text/plain": [
       "[{'name': 'serving_default_input_35:0',\n",
       "  'index': 0,\n",
       "  'shape': array([  1, 299, 299,   3]),\n",
       "  'shape_signature': array([ -1, 299, 299,   3]),\n",
       "  'dtype': numpy.float32,\n",
       "  'quantization': (0.0, 0),\n",
       "  'quantization_parameters': {'scales': array([], dtype=float32),\n",
       "   'zero_points': array([], dtype=int32),\n",
       "   'quantized_dimension': 0},\n",
       "  'sparsity_parameters': {}}]"
      ]
     },
     "execution_count": 36,
     "metadata": {},
     "output_type": "execute_result"
    }
   ],
   "source": [
    "interpreter.get_input_details()"
   ]
  },
  {
   "cell_type": "code",
   "execution_count": 37,
   "id": "cc265cea-3f65-4f75-988a-f6caee42c1ac",
   "metadata": {},
   "outputs": [
    {
     "data": {
      "text/plain": [
       "[{'name': 'StatefulPartitionedCall:0',\n",
       "  'index': 788,\n",
       "  'shape': array([  1, 120]),\n",
       "  'shape_signature': array([ -1, 120]),\n",
       "  'dtype': numpy.float32,\n",
       "  'quantization': (0.0, 0),\n",
       "  'quantization_parameters': {'scales': array([], dtype=float32),\n",
       "   'zero_points': array([], dtype=int32),\n",
       "   'quantized_dimension': 0},\n",
       "  'sparsity_parameters': {}}]"
      ]
     },
     "execution_count": 37,
     "metadata": {},
     "output_type": "execute_result"
    }
   ],
   "source": [
    "interpreter.get_output_details()"
   ]
  },
  {
   "cell_type": "code",
   "execution_count": 53,
   "id": "1d8147e7-744a-4588-b42e-bf517df3495e",
   "metadata": {},
   "outputs": [],
   "source": [
    "# index for inputs and outputs\n",
    "input_index = interpreter.get_input_details()[0]['index']\n",
    "output_index = interpreter.get_output_details()[0]['index']\n",
    "\n",
    "# compute predictions with model\n",
    "interpreter.set_tensor(input_index, X)\n",
    "interpreter.invoke()\n",
    "preds = interpreter.get_tensor(output_index)"
   ]
  },
  {
   "cell_type": "markdown",
   "id": "0cba1b7f-d582-4bc4-bb56-e9274668888d",
   "metadata": {},
   "source": [
    "Looking at the predictions for both the original model and tflite, we can see they both predict the correct image, chihuahua. The prediction values themselves are slightly different for each class, but are within range (< 0.01 % difference) to move forward."
   ]
  },
  {
   "cell_type": "code",
   "execution_count": 58,
   "id": "65459dd8-b39c-4ad5-b8cc-77fe3761a8f5",
   "metadata": {},
   "outputs": [
    {
     "data": {
      "text/plain": [
       "[('Chihuahua', 5.54814),\n",
       " ('Pomeranian', 4.8539085),\n",
       " ('Papillon', -0.2773252),\n",
       " ('Pekinese', -0.3510011),\n",
       " ('Japanese spaniel', -1.0086241)]"
      ]
     },
     "execution_count": 58,
     "metadata": {},
     "output_type": "execute_result"
    }
   ],
   "source": [
    "classes = ['Chihuahua', 'Japanese spaniel', 'Maltese dog', 'Pekinese', 'Shih tzu', 'Blenheim spaniel', 'Papillon', 'Toy terrier', 'Rhodesian ridgeback', 'Afghan hound', 'Basset', 'Beagle', 'Bloodhound', 'Bluetick', 'Black and tan coonhound', 'Walker hound', 'English foxhound', 'Redbone', 'Borzoi', 'Irish wolfhound', 'Italian greyhound', 'Whippet', 'Ibizan hound', 'Norwegian elkhound', 'Otterhound', 'Saluki', 'Scottish deerhound', 'Weimaraner', 'Staffordshire bullterrier', 'American staffordshire terrier', 'Bedlington terrier', 'Border terrier', 'Kerry blue terrier', 'Irish terrier', 'Norfolk terrier', 'Norwich terrier', 'Yorkshire terrier', 'Wire haired fox terrier', 'Lakeland terrier', 'Sealyham terrier', 'Airedale', 'Cairn', 'Australian terrier', 'Dandie dinmont', 'Boston bull', 'Miniature schnauzer', 'Giant schnauzer', 'Standard schnauzer', 'Scotch terrier', 'Tibetan terrier', 'Silky terrier', 'Soft coated wheaten terrier', 'West highland white terrier', 'Lhasa', 'Flat coated retriever', 'Curly coated retriever', 'Golden retriever', 'Labrador retriever', 'Chesapeake bay retriever', 'German short haired pointer', 'Vizsla', 'English setter', 'Irish setter', 'Gordon setter', 'Brittany spaniel', 'Clumber', 'English springer', 'Welsh springer spaniel', 'Cocker spaniel', 'Sussex spaniel', 'Irish water spaniel', 'Kuvasz', 'Schipperke', 'Groenendael', 'Malinois', 'Briard', 'Kelpie', 'Komondor', 'Old english sheepdog', 'Shetland sheepdog', 'Collie', 'Border collie', 'Bouvier des flandres', 'Rottweiler', 'German shepherd', 'Doberman', 'Miniature pinscher', 'Greater swiss mountain dog', 'Bernese mountain dog', 'Appenzeller', 'Entlebucher', 'Boxer', 'Bull mastiff', 'Tibetan mastiff', 'French bulldog', 'Great dane', 'Saint bernard', 'Eskimo dog', 'Malamute', 'Siberian husky', 'Affenpinscher', 'Basenji', 'Pug', 'Leonberg', 'Newfoundland', 'Great pyrenees', 'Samoyed', 'Pomeranian', 'Chow', 'Keeshond', 'Brabancon griffon', 'Pembroke', 'Cardigan', 'Toy poodle', 'Miniature poodle', 'Standard poodle', 'Mexican hairless', 'Dingo', 'Dhole', 'African hunting dog']\n",
    "dict_predictions = dict(zip(classes, preds[0]))\n",
    "sorted(dict_predictions.items(), key=lambda x:x[1], reverse=True)[:5]"
   ]
  },
  {
   "cell_type": "code",
   "execution_count": 57,
   "id": "caa95cba",
   "metadata": {},
   "outputs": [
    {
     "name": "stdout",
     "output_type": "stream",
     "text": [
      "1/1 [==============================] - 0s 28ms/step\n"
     ]
    },
    {
     "data": {
      "text/plain": [
       "[('Chihuahua', 5.547492),\n",
       " ('Pomeranian', 4.854481),\n",
       " ('Papillon', -0.27766997),\n",
       " ('Pekinese', -0.35106304),\n",
       " ('Japanese spaniel', -1.0098265)]"
      ]
     },
     "execution_count": 57,
     "metadata": {},
     "output_type": "execute_result"
    }
   ],
   "source": [
    "dict_predictions = dict(zip(classes, effnetB3_model.predict(X)[0]))\n",
    "sorted(dict_predictions.items(), key=lambda x:x[1], reverse=True)[:5]"
   ]
  },
  {
   "cell_type": "code",
   "execution_count": 59,
   "id": "f7336d2c",
   "metadata": {},
   "outputs": [
    {
     "data": {
      "text/plain": [
       "6.479999999999819e-06"
      ]
     },
     "execution_count": 59,
     "metadata": {},
     "output_type": "execute_result"
    }
   ],
   "source": [
    "(5.54814 - 5.547492)/100"
   ]
  },
  {
   "cell_type": "markdown",
   "id": "86e84ee7-cb92-410a-a745-6dcd17335ef1",
   "metadata": {},
   "source": [
    "### remove tensorflow dependencies"
   ]
  },
  {
   "cell_type": "markdown",
   "id": "d1cc2f80-7f42-4ba1-9955-b1fb84017dc9",
   "metadata": {},
   "source": [
    "We can skip efficientnetv2 preprocess_input, because according to the [sourcecode](https://github.com/keras-team/keras/blob/master/keras/applications/efficientnet_v2.py):\n",
    "The preprocessing logic has been included in the EfficientNetV2 model implementation. Users are no longer required to call this method to normalize the input data."
   ]
  },
  {
   "cell_type": "code",
   "execution_count": 60,
   "id": "d3958ef6-5a77-499b-b130-892d9a6d6e0e",
   "metadata": {},
   "outputs": [],
   "source": [
    "with Image.open(image) as img:\n",
    "    img = img.resize((299, 299), Image.NEAREST)\n",
    "\n",
    "X = np.array([img], dtype='float32')"
   ]
  },
  {
   "cell_type": "code",
   "execution_count": 62,
   "id": "61d55171-62cd-4ce6-a81e-b6c53673c0a0",
   "metadata": {},
   "outputs": [
    {
     "data": {
      "text/plain": [
       "'Chihuahua'"
      ]
     },
     "execution_count": 62,
     "metadata": {},
     "output_type": "execute_result"
    }
   ],
   "source": [
    "interpreter.set_tensor(input_index, X)\n",
    "interpreter.invoke()\n",
    "preds = interpreter.get_tensor(output_index)\n",
    "classes[np.argmax(preds)]"
   ]
  },
  {
   "cell_type": "markdown",
   "id": "b198ffb0-f8ad-4f98-a4e3-5653d72ba2f8",
   "metadata": {},
   "source": [
    "The following also removes dependency of the full tensorflow package, however, this notebook runs on windows with python 3.10 to support other dependencies. tflite is no longer supported past python 3.9, so I'm skipping the following step and will remove tensorflow dependencies from the docker container before deployment."
   ]
  },
  {
   "cell_type": "code",
   "execution_count": 157,
   "id": "ce9e1a53-ee03-46cb-8dd7-e11a36255dcf",
   "metadata": {
    "collapsed": true,
    "jupyter": {
     "outputs_hidden": true
    }
   },
   "outputs": [
    {
     "name": "stdout",
     "output_type": "stream",
     "text": [
      "Looking in indexes: https://pypi.org/simple, https://google-coral.github.io/py-repo/\n"
     ]
    },
    {
     "name": "stderr",
     "output_type": "stream",
     "text": [
      "ERROR: Could not find a version that satisfies the requirement tflite_runtime (from versions: none)\n",
      "ERROR: No matching distribution found for tflite_runtime\n"
     ]
    }
   ],
   "source": [
    "!pip install --extra-index-url https://google-coral.github.io/py-repo/ tflite_runtime"
   ]
  },
  {
   "cell_type": "code",
   "execution_count": 150,
   "id": "a9b78551-3bbc-442a-a0e9-6ace84a94228",
   "metadata": {
    "collapsed": true,
    "jupyter": {
     "outputs_hidden": true
    },
    "scrolled": true
   },
   "outputs": [
    {
     "ename": "ModuleNotFoundError",
     "evalue": "No module named 'tflite_runtime'",
     "output_type": "error",
     "traceback": [
      "\u001b[1;31m---------------------------------------------------------------------------\u001b[0m",
      "\u001b[1;31mModuleNotFoundError\u001b[0m                       Traceback (most recent call last)",
      "Cell \u001b[1;32mIn[150], line 1\u001b[0m\n\u001b[1;32m----> 1\u001b[0m \u001b[38;5;28;01mimport\u001b[39;00m \u001b[38;5;21;01mtflite_runtime\u001b[39;00m\u001b[38;5;21;01m.\u001b[39;00m\u001b[38;5;21;01minterpreter\u001b[39;00m \u001b[38;5;28;01mas\u001b[39;00m \u001b[38;5;21;01mtflite\u001b[39;00m\n",
      "\u001b[1;31mModuleNotFoundError\u001b[0m: No module named 'tflite_runtime'"
     ]
    }
   ],
   "source": [
    "import tflite_runtime.interpreter as tflite"
   ]
  },
  {
   "cell_type": "markdown",
   "id": "df303967-6082-4879-a32f-d00816b14d81",
   "metadata": {},
   "source": [
    "## 2.2 Local Deployment"
   ]
  },
  {
   "cell_type": "markdown",
   "id": "08d0580a-532a-4980-bb52-99f9501de0ea",
   "metadata": {},
   "source": [
    "To deploy locally, navigate up to the root folder and run the following from a terminal or command prompt. Please note that docker must already be installed on your local machine. See the [official documentation](https://docs.docker.com/engine/install/) for Docker Engine installation.\n",
    "\n",
    "- Build the container: `docker build -t dog-prediction -f deployment/lambda.dockerfile .`\n",
    "- Run the container: `docker run -it --rm -p 8080:8080 dog-prediction:latest`\n",
    "\n",
    "This will build an image from the [dockerfile](../Dockerfile) using python 3.10, tflite and [lambda_function.py](lambda_function.py). Once the container is running, you should be able to execute the following commands to recieve a prediction from a web-hosted image. The code is exported to [test.py](test.py) and can be run from the python folder with the command `python test.py`."
   ]
  },
  {
   "cell_type": "code",
   "execution_count": 63,
   "id": "3c14590d-60df-46a9-a5ba-dfd5005ce7b7",
   "metadata": {
    "scrolled": true
   },
   "outputs": [
    {
     "name": "stdout",
     "output_type": "stream",
     "text": [
      "[['Golden retriever', 4.919923782348633], ['Kuvasz', 1.704105019569397], ['Great pyrenees', 0.6640735268592834], ['Labrador retriever', -0.6828881502151489], ['Border collie', -0.9368569254875183]]\n"
     ]
    }
   ],
   "source": [
    "test(\"local\")"
   ]
  },
  {
   "cell_type": "markdown",
   "id": "60ff8de4-0050-4db9-ab2a-be4aca50fdb0",
   "metadata": {},
   "source": [
    "It should return the above response with the top 5 dog breeds ascending order, each followed by the corresponding model score.\n",
    "\n",
    "The following runs [test.py](test.py) which contains similar code, and can be run from the command line."
   ]
  },
  {
   "cell_type": "code",
   "execution_count": 65,
   "id": "cea1b349-3d7d-44b4-bc69-41a0513a1f18",
   "metadata": {},
   "outputs": [
    {
     "name": "stdout",
     "output_type": "stream",
     "text": [
      "[['Golden retriever', 4.919923782348633], ['Kuvasz', 1.704105019569397], ['Great pyrenees', 0.6640735268592834], ['Labrador retriever', -0.6828881502151489], ['Border collie', -0.9368569254875183]]\n"
     ]
    }
   ],
   "source": [
    "%run -i ../python/test.py -t local"
   ]
  },
  {
   "cell_type": "markdown",
   "id": "47737559-bd71-484f-bbc6-b64ff43b7bff",
   "metadata": {},
   "source": [
    "## 2.3 AWS Lambda Deployment"
   ]
  },
  {
   "cell_type": "markdown",
   "id": "edb19eb1",
   "metadata": {},
   "source": [
    "### Push Docker Images"
   ]
  },
  {
   "cell_type": "markdown",
   "id": "48e5a1ea",
   "metadata": {},
   "source": [
    "AWS Lambda is a serverless deployment method for simple applications. We're going to set everything up from our command line using the python awscli package. First, we need to get access keys for logging into the account.\n",
    "\n",
    "- From the IAM page, click Access Management -> Users -> Create User\n",
    "    - Give the user the following permission: AmazonEC2ContainerRegistryFullAccess\n",
    "- Create access key: From the IAM page, click 'Users' then the user you just created. Click Create Access Key -> Command Line Interface (CLI) -> Next\n",
    "    - Copy down the access key and secret access key for the next step\n",
    "\n",
    "Next, login to the account from the command line. Run the following and include the access keys you just copied down. Leave the default region, which will later be called {REGION} and output format.\n",
    "\n",
    "> aws configure\n",
    "\n",
    "Create the repository and copy the number at the beginning of the 'repositoryUri' that it returns, which will later be called {AWS_ACCOUNT_ID}.\n",
    "\n",
    "> aws ecr create-repository --repository-name dog-prediction-images\n",
    "\n",
    "Login\n",
    "\n",
    "> aws ecr get-login-password --region {REGION} | docker login --username AWS --password-stdin {AWS_ACCOUNT_ID}.dkr.ecr.{REGION}.amazonaws.com\n",
    "\n",
    "Tag and push the local docker image to the repository you just created\n",
    "\n",
    "> docker tag dog-prediction:latest 730335336972.dkr.ecr.us-east-2.amazonaws.com/dog-prediction-images:dog-model-001\n",
    "> \n",
    "> docker push 730335336972.dkr.ecr.us-east-2.amazonaws.com/dog-prediction-images:dog-model-001\n"
   ]
  },
  {
   "cell_type": "markdown",
   "id": "55eeb23e",
   "metadata": {},
   "source": [
    "### Lambda Deployment"
   ]
  },
  {
   "cell_type": "markdown",
   "id": "f35e3636",
   "metadata": {},
   "source": [
    "**Create a Lambda Function**\n",
    "- Open AWS Lambda → Create function → Container image → Add a function name → Add the image we just created using ‘Browse images’ → Create function\n",
    "\n",
    "**Test lambda function**\n",
    "- Set timeout from 3→30 and click the test button. Make sure it passes before moving on.\n",
    "\n",
    "**Create API Gateway**\n",
    "- Go to [API Gateway](https://us-east-2.console.aws.amazon.com/apigateway/main) page\n",
    "- If you already have an API, click ‘Create API’. Whether or not you do, click ‘Build’ under REST API.\n",
    "- Assign it a name\n",
    "\n",
    "**Create resource**\n",
    "- Click ‘create resource’\n",
    "- Give it the name ‘predict’ then click ‘create’\n",
    "\n",
    "**Create method**\n",
    "- With ‘predict’ method highlighted, click ‘create method’\n",
    "- method type = POST\n",
    "- Leave ‘lambda function’\n",
    "- Add the function you just create as the lambda function\n",
    "- Create ‘create method’\n",
    "\n",
    "**Create test**\n",
    "- Click “test”\n",
    "- In the request body, add the json\n",
    "\n",
    "    `{\"url\": \"https://upload.wikimedia.org/wikipedia/commons/8/8b/Redbone-coonhound-detail.jpg\"}`\n",
    "- Click ‘test’ and make sure it gives the correct response ‘redbone’\n",
    "\n",
    "**Deploy**\n",
    "- Click ‘Deploy API’\n",
    "- Give it a ‘new stage’\n",
    "- Give it a name\n",
    "- click ‘deploy’\n"
   ]
  },
  {
   "cell_type": "markdown",
   "id": "bb8c2ddf",
   "metadata": {},
   "source": [
    "### Test Lambda Function"
   ]
  },
  {
   "cell_type": "markdown",
   "id": "5a9eb7d1-d06e-4840-8eda-1288d1a34124",
   "metadata": {},
   "source": [
    "The model is deployed to an AWS Lambda function hosted by a docker image on AWS EC2. The following now posts to the AWS cloud model instead."
   ]
  },
  {
   "cell_type": "code",
   "execution_count": 66,
   "id": "dec9f26a-3c13-4ce9-beb4-f157d5e0ff31",
   "metadata": {},
   "outputs": [
    {
     "name": "stdout",
     "output_type": "stream",
     "text": [
      "[['Golden retriever', 4.919923782348633], ['Kuvasz', 1.704105019569397], ['Great pyrenees', 0.6640735268592834], ['Labrador retriever', -0.6828881502151489], ['Border collie', -0.9368569254875183]]\n"
     ]
    }
   ],
   "source": [
    "test(\"lambda\")"
   ]
  },
  {
   "cell_type": "markdown",
   "id": "a3e86526-f85a-44a1-82df-91dd27d9f553",
   "metadata": {},
   "source": [
    "The following runs [test.py](test.py) with the cloud deployed Lambda function, and can be run from the command line."
   ]
  },
  {
   "cell_type": "code",
   "execution_count": 67,
   "id": "b0d8f601-def8-4297-8cfe-0c8ba484749f",
   "metadata": {},
   "outputs": [
    {
     "name": "stdout",
     "output_type": "stream",
     "text": [
      "[['Golden retriever', 4.919923782348633], ['Kuvasz', 1.704105019569397], ['Great pyrenees', 0.6640735268592834], ['Labrador retriever', -0.6828881502151489], ['Border collie', -0.9368569254875183]]\n"
     ]
    }
   ],
   "source": [
    "%run -i ../python/test.py -t lambda"
   ]
  },
  {
   "cell_type": "markdown",
   "id": "8408cda9-d1a6-4270-ad0b-6bfec9b63b30",
   "metadata": {},
   "source": [
    "# 3. Kubernetes Deployment"
   ]
  },
  {
   "cell_type": "markdown",
   "id": "3047dbce-6619-422b-8c43-7ea0e53fa3bb",
   "metadata": {},
   "source": [
    "## 3.1 Docker"
   ]
  },
  {
   "cell_type": "markdown",
   "id": "ca996a8e-eb1d-4a83-8117-fa7e6250dbd9",
   "metadata": {},
   "source": [
    "To test our kubernetes deployment before deploying it to the cloud, we'll set up a multi-container environment with docker-compose. Here are some helper functions we'll use for loading, sending and converting the image to the proper format."
   ]
  },
  {
   "cell_type": "code",
   "execution_count": null,
   "id": "42c25368",
   "metadata": {},
   "outputs": [],
   "source": [
    "def download_image(url):\n",
    "    with request.urlopen(url) as resp:\n",
    "        buffer = resp.read()\n",
    "    stream = BytesIO(buffer)\n",
    "    img = Image.open(stream)\n",
    "    return img"
   ]
  },
  {
   "cell_type": "code",
   "execution_count": null,
   "id": "8708fb74",
   "metadata": {},
   "outputs": [],
   "source": [
    "def batch_image(img):\n",
    "    if img.mode != 'RGB':\n",
    "        img = img.convert('RGB')\n",
    "        \n",
    "    img = img.resize((299, 299), Image.NEAREST)    \n",
    "    X = np.array(img, dtype='float32')\n",
    "    batch = np.expand_dims(X, axis=0)\n",
    "\n",
    "    return batch"
   ]
  },
  {
   "cell_type": "code",
   "execution_count": null,
   "id": "dc25f831",
   "metadata": {},
   "outputs": [],
   "source": [
    "def np_to_protobuf(data):\n",
    "    return tf.make_tensor_proto(data, shape=data.shape)"
   ]
  },
  {
   "cell_type": "markdown",
   "id": "59bd1012-4137-4a9f-9b91-fda6163c2abd",
   "metadata": {
    "jp-MarkdownHeadingCollapsed": true
   },
   "source": [
    "### Save model to tensorflow format"
   ]
  },
  {
   "cell_type": "markdown",
   "id": "fd634088-0b2a-40e3-a5e7-d40df06b4839",
   "metadata": {},
   "source": [
    "Save keras model to tensorflow format\n",
    "\n",
    "Use saved_model_cli to check for info we'll need to use later when serving the model\n",
    "- **Signature definition**: 'serving_default'\n",
    "- **Input**: 'input_35'\n",
    "- **Output**: 'dense_65'"
   ]
  },
  {
   "cell_type": "code",
   "execution_count": 14,
   "id": "c6b959c7-c279-4030-a9d5-70f66ea5a779",
   "metadata": {
    "scrolled": true
   },
   "outputs": [
    {
     "name": "stderr",
     "output_type": "stream",
     "text": [
      "WARNING:absl:Found untraced functions such as _jit_compiled_convolution_op, _jit_compiled_convolution_op, _jit_compiled_convolution_op, _jit_compiled_convolution_op, _jit_compiled_convolution_op while saving (showing 5 of 136). These functions will not be directly callable after loading.\n"
     ]
    },
    {
     "name": "stdout",
     "output_type": "stream",
     "text": [
      "INFO:tensorflow:Assets written to: ..\\models\\converted_model\\assets\n"
     ]
    },
    {
     "name": "stderr",
     "output_type": "stream",
     "text": [
      "INFO:tensorflow:Assets written to: ..\\models\\converted_model\\assets\n"
     ]
    }
   ],
   "source": [
    "path = os.path.join('..', 'models', 'effnetV2B3_model.keras')\n",
    "effnetB3_model = keras.models.load_model(path)\n",
    "tf.saved_model.save(effnetB3_model, os.path.join('..', 'models', 'converted_model'))"
   ]
  },
  {
   "cell_type": "code",
   "execution_count": 15,
   "id": "9e7f8b2e-8df4-4d19-9106-abaac6573694",
   "metadata": {
    "scrolled": true
   },
   "outputs": [
    {
     "name": "stdout",
     "output_type": "stream",
     "text": [
      "\n",
      "MetaGraphDef with tag-set: 'serve' contains the following SignatureDefs:\n",
      "\n",
      "signature_def['__saved_model_init_op']:\n",
      "  The given SavedModel SignatureDef contains the following input(s):\n",
      "  The given SavedModel SignatureDef contains the following output(s):\n",
      "    outputs['__saved_model_init_op'] tensor_info:\n",
      "        dtype: DT_INVALID\n",
      "        shape: unknown_rank\n",
      "        name: NoOp\n",
      "  Method name is: \n",
      "\n",
      "signature_def['serving_default']:\n",
      "  The given SavedModel SignatureDef contains the following input(s):\n",
      "    inputs['input_35'] tensor_info:\n",
      "        dtype: DT_FLOAT\n",
      "        shape: (-1, 299, 299, 3)\n",
      "        name: serving_default_input_35:0\n",
      "  The given SavedModel SignatureDef contains the following output(s):\n",
      "    outputs['dense_65'] tensor_info:\n",
      "        dtype: DT_FLOAT\n",
      "        shape: (-1, 120)\n",
      "        name: StatefulPartitionedCall:0\n",
      "  Method name is: tensorflow/serving/predict\n",
      "\n",
      "Concrete Functions:\n",
      "  Function Name: '__call__'\n",
      "    Option #1\n",
      "      Callable with:\n",
      "        Argument #1\n",
      "          input_35: TensorSpec(shape=(None, 299, 299, 3), dtype=tf.float32, name='input_35')\n",
      "        Argument #2\n",
      "          DType: bool\n",
      "          Value: False\n",
      "        Argument #3\n",
      "          DType: NoneType\n",
      "          Value: None\n",
      "    Option #2\n",
      "      Callable with:\n",
      "        Argument #1\n",
      "          inputs: TensorSpec(shape=(None, 299, 299, 3), dtype=tf.float32, name='inputs')\n",
      "        Argument #2\n",
      "          DType: bool\n",
      "          Value: False\n",
      "        Argument #3\n",
      "          DType: NoneType\n",
      "          Value: None\n",
      "    Option #3\n",
      "      Callable with:\n",
      "        Argument #1\n",
      "          input_35: TensorSpec(shape=(None, 299, 299, 3), dtype=tf.float32, name='input_35')\n",
      "        Argument #2\n",
      "          DType: bool\n",
      "          Value: True\n",
      "        Argument #3\n",
      "          DType: NoneType\n",
      "          Value: None\n",
      "    Option #4\n",
      "      Callable with:\n",
      "        Argument #1\n",
      "          inputs: TensorSpec(shape=(None, 299, 299, 3), dtype=tf.float32, name='inputs')\n",
      "        Argument #2\n",
      "          DType: bool\n",
      "          Value: True\n",
      "        Argument #3\n",
      "          DType: NoneType\n",
      "          Value: None\n",
      "\n",
      "  Function Name: '_default_save_signature'\n",
      "    Option #1\n",
      "      Callable with:\n",
      "        Argument #1\n",
      "          input_35: TensorSpec(shape=(None, 299, 299, 3), dtype=tf.float32, name='input_35')\n",
      "\n",
      "  Function Name: 'call_and_return_all_conditional_losses'\n",
      "    Option #1\n",
      "      Callable with:\n",
      "        Argument #1\n",
      "          inputs: TensorSpec(shape=(None, 299, 299, 3), dtype=tf.float32, name='inputs')\n",
      "        Argument #2\n",
      "          DType: bool\n",
      "          Value: False\n",
      "        Argument #3\n",
      "          DType: NoneType\n",
      "          Value: None\n",
      "    Option #2\n",
      "      Callable with:\n",
      "        Argument #1\n",
      "          inputs: TensorSpec(shape=(None, 299, 299, 3), dtype=tf.float32, name='inputs')\n",
      "        Argument #2\n",
      "          DType: bool\n",
      "          Value: True\n",
      "        Argument #3\n",
      "          DType: NoneType\n",
      "          Value: None\n",
      "    Option #3\n",
      "      Callable with:\n",
      "        Argument #1\n",
      "          input_35: TensorSpec(shape=(None, 299, 299, 3), dtype=tf.float32, name='input_35')\n",
      "        Argument #2\n",
      "          DType: bool\n",
      "          Value: True\n",
      "        Argument #3\n",
      "          DType: NoneType\n",
      "          Value: None\n",
      "    Option #4\n",
      "      Callable with:\n",
      "        Argument #1\n",
      "          input_35: TensorSpec(shape=(None, 299, 299, 3), dtype=tf.float32, name='input_35')\n",
      "        Argument #2\n",
      "          DType: bool\n",
      "          Value: False\n",
      "        Argument #3\n",
      "          DType: NoneType\n",
      "          Value: None\n"
     ]
    }
   ],
   "source": [
    "!saved_model_cli show --dir ../models/converted_model --all"
   ]
  },
  {
   "cell_type": "markdown",
   "id": "17154a5e-5970-455c-a5d2-0fcf1dfdbd4c",
   "metadata": {
    "jp-MarkdownHeadingCollapsed": true
   },
   "source": [
    "### Model container from command line/terminal"
   ]
  },
  {
   "cell_type": "markdown",
   "id": "53992b81-8688-427d-9db0-d30b05be1365",
   "metadata": {},
   "source": [
    "First we can run a simple container for serving our model from the command line or terminal. First **navigate** to the models folder. See below for a range of commands for different OS's"
   ]
  },
  {
   "cell_type": "markdown",
   "id": "eb952699-6a63-4e39-a613-ba6bc5f67f9d",
   "metadata": {},
   "source": [
    "Windows powershell:\n",
    "\n",
    "> docker run -it --rm -p 8500:8500 -v \"$(pwd)/converted_model:/models/converted_model/1\" -e MODEL_NAME=\"converted_model\" tensorflow/serving:2.7.0\n",
    "\n",
    "Windows command line:\n",
    "\n",
    "> docker run -it --rm ^\n",
    "    -p 8500:8500 ^\n",
    "    -v \"%cd%/converted_model:/models/converted_model/1\" ^\n",
    "    -e MODEL_NAME=\"converted_model\" ^\n",
    "    tensorflow/serving:2.7.0\n",
    "\n",
    "Mac silicon:\n",
    "\n",
    "> docker run -it --rm -p 8500:8500 -v \"$(pwd)/converted_model:/models/converted_model/1\" -e MODEL_NAME=\"converted_model\" tensorflow/serving:2.7.0"
   ]
  },
  {
   "cell_type": "markdown",
   "id": "1f6acc8d-969d-4f5b-8b6c-5efbfe43b249",
   "metadata": {},
   "source": [
    "Next we need to test that our model is served correctly. We'll use gRPC to start up a communication channel at the port that the model is locally hosted on (8500), then send our input data to that channel to recieve the results.\n",
    "- tf-serving makes use of gRPC, a framework for connecting services in and across datacenters\n",
    "- gRPC uses *Protocol Buffers* (AKA ***Protobuf***) for formatting data, a kind of binary encoding which is faster and more efficient than JSON.\n",
    "- gRPC can establish both insecure and secure communication channels. Secure channels can make use of authentication and other advanced security features, but since our model server won't be accessible from the outside, insecure channels are adequate for our use case.\n",
    "- The *stub* is our interface with the tf-serving inorder to make inference with our model. It needs a channel as a parameter to establish the communication."
   ]
  },
  {
   "cell_type": "code",
   "execution_count": 24,
   "id": "e09322b8-60b1-4271-bdeb-e75f9b8f191f",
   "metadata": {},
   "outputs": [],
   "source": [
    "host = 'localhost:8500'\n",
    "channel = grpc.insecure_channel(host)\n",
    "stub = prediction_service_pb2_grpc.PredictionServiceStub(channel)"
   ]
  },
  {
   "cell_type": "markdown",
   "id": "bd7d2998-1f74-4680-b63f-798ee6fa28d3",
   "metadata": {},
   "source": [
    "The following blocks download an image and convert it into a numpy array for sending to the model"
   ]
  },
  {
   "cell_type": "code",
   "execution_count": 25,
   "id": "09e4608c-3b48-4f4e-8aad-662f99f6ac2f",
   "metadata": {},
   "outputs": [],
   "source": [
    "image_url = \"https://upload.wikimedia.org/wikipedia/commons/4/4b/Golden_retriever_running_on_a_dirt_road.jpg\"\n",
    "img = download_image(image_url)\n",
    "X = batch_image(img)"
   ]
  },
  {
   "cell_type": "markdown",
   "id": "b53eb876-9487-4ecf-a46f-4f8bf00cbd46",
   "metadata": {},
   "source": [
    "Set up our request to our model by: \n",
    "- Instancing a Protobuf request object and defining its model name, the model's signature name (input_35) that we saw before and its input.\n",
    "- Convert the numpy array of our image to Protobuf format and copy it to the request object.\n",
    "\n",
    "Inference is done with the stub's Predict() method. Returns a protobuf response object that access our predictions with the name of the aoutput that we found in the signature definition (dense_65)."
   ]
  },
  {
   "cell_type": "code",
   "execution_count": 26,
   "id": "83ec9166-24ce-4e0c-a7a6-b70ded509505",
   "metadata": {},
   "outputs": [],
   "source": [
    "pb_request = predict_pb2.PredictRequest()\n",
    "pb_request.model_spec.name = 'converted_model'\n",
    "pb_request.model_spec.signature_name = 'serving_default'\n",
    "pb_request.inputs['input_35'].CopyFrom(np_to_protobuf(X))"
   ]
  },
  {
   "cell_type": "code",
   "execution_count": 27,
   "id": "2c9f3611-4ce3-419f-95f5-7c9bbc799294",
   "metadata": {},
   "outputs": [],
   "source": [
    "pb_response = stub.Predict(pb_request, timeout=20.0)\n",
    "preds = pb_response.outputs['dense_65'].float_val"
   ]
  },
  {
   "cell_type": "code",
   "execution_count": 28,
   "id": "32d7c117-27f0-4fd9-82a5-67439955ed72",
   "metadata": {},
   "outputs": [
    {
     "data": {
      "text/plain": [
       "[('Golden retriever', 4.919919967651367),\n",
       " ('Kuvasz', 1.704106330871582),\n",
       " ('Great pyrenees', 0.6640768051147461),\n",
       " ('Labrador retriever', -0.6828897595405579),\n",
       " ('Border collie', -0.936854898929596)]"
      ]
     },
     "execution_count": 28,
     "metadata": {},
     "output_type": "execute_result"
    }
   ],
   "source": [
    "classes = ['Chihuahua', 'Japanese spaniel', 'Maltese dog', 'Pekinese', 'Shih tzu', 'Blenheim spaniel', 'Papillon', 'Toy terrier', 'Rhodesian ridgeback', 'Afghan hound', 'Basset', 'Beagle', 'Bloodhound', 'Bluetick', 'Black and tan coonhound', 'Walker hound', 'English foxhound', 'Redbone', 'Borzoi', 'Irish wolfhound', 'Italian greyhound', 'Whippet', 'Ibizan hound', 'Norwegian elkhound', 'Otterhound', 'Saluki', 'Scottish deerhound', 'Weimaraner', 'Staffordshire bullterrier', 'American staffordshire terrier', 'Bedlington terrier', 'Border terrier', 'Kerry blue terrier', 'Irish terrier', 'Norfolk terrier', 'Norwich terrier', 'Yorkshire terrier', 'Wire haired fox terrier', 'Lakeland terrier', 'Sealyham terrier', 'Airedale', 'Cairn', 'Australian terrier', 'Dandie dinmont', 'Boston bull', 'Miniature schnauzer', 'Giant schnauzer', 'Standard schnauzer', 'Scotch terrier', 'Tibetan terrier', 'Silky terrier', 'Soft coated wheaten terrier', 'West highland white terrier', 'Lhasa', 'Flat coated retriever', 'Curly coated retriever', 'Golden retriever', 'Labrador retriever', 'Chesapeake bay retriever', 'German short haired pointer', 'Vizsla', 'English setter', 'Irish setter', 'Gordon setter', 'Brittany spaniel', 'Clumber', 'English springer', 'Welsh springer spaniel', 'Cocker spaniel', 'Sussex spaniel', 'Irish water spaniel', 'Kuvasz', 'Schipperke', 'Groenendael', 'Malinois', 'Briard', 'Kelpie', 'Komondor', 'Old english sheepdog', 'Shetland sheepdog', 'Collie', 'Border collie', 'Bouvier des flandres', 'Rottweiler', 'German shepherd', 'Doberman', 'Miniature pinscher', 'Greater swiss mountain dog', 'Bernese mountain dog', 'Appenzeller', 'Entlebucher', 'Boxer', 'Bull mastiff', 'Tibetan mastiff', 'French bulldog', 'Great dane', 'Saint bernard', 'Eskimo dog', 'Malamute', 'Siberian husky', 'Affenpinscher', 'Basenji', 'Pug', 'Leonberg', 'Newfoundland', 'Great pyrenees', 'Samoyed', 'Pomeranian', 'Chow', 'Keeshond', 'Brabancon griffon', 'Pembroke', 'Cardigan', 'Toy poodle', 'Miniature poodle', 'Standard poodle', 'Mexican hairless', 'Dingo', 'Dhole', 'African hunting dog']\n",
    "dict_predictions = dict(zip(classes, preds))\n",
    "top_5 = sorted(dict_predictions.items(), key=lambda x:x[1], reverse=True)[:5]\n",
    "top_5"
   ]
  },
  {
   "cell_type": "markdown",
   "id": "1ea32ec4-e436-4770-8c7c-7296faaf89c1",
   "metadata": {
    "jp-MarkdownHeadingCollapsed": true
   },
   "source": [
    "### Model serving container from Dockerfile"
   ]
  },
  {
   "cell_type": "markdown",
   "id": "9c49cbc6-1664-4072-8ef2-45122389178b",
   "metadata": {},
   "source": [
    "- Create a simple dockerfile with tf-serving. It's saved to the kubernetes folder as [image-model.dockerfile](../kubernetes/image-model.dockerfile).\n",
    "  - Points to the [converted_model](../models/converted_model) directory\n",
    "- Build the container\n",
    "- Run at port 8500"
   ]
  },
  {
   "cell_type": "markdown",
   "id": "eae46c4c-736c-4750-80ce-b55f47091349",
   "metadata": {},
   "source": [
    "**DOCKERFILE**\n",
    "\n",
    "> FROM tensorflow/serving:2.7.0\n",
    "> \n",
    "> COPY models/converted_model models/converted_model/1\n",
    "> \n",
    "> ENV MODEL_NAME=\"converted_model\"\n",
    "\n",
    "**BUILD**\n",
    "> docker build -t dog-prediction-model:v1 -f kubernetes/image-model.dockerfile .\n",
    "\n",
    "**RUN**\n",
    "> docker run -it --rm -p 8500:8500 dog-prediction-model:v1"
   ]
  },
  {
   "cell_type": "markdown",
   "id": "74cdc298-aa18-4c2a-b111-462adca4b212",
   "metadata": {},
   "source": [
    "Test it again"
   ]
  },
  {
   "cell_type": "code",
   "execution_count": 59,
   "id": "1f2ba54a-3463-4f73-8676-9842a8bd5be9",
   "metadata": {
    "scrolled": true
   },
   "outputs": [
    {
     "name": "stdout",
     "output_type": "stream",
     "text": [
      "[('Golden retriever', 4.919919967651367), ('Kuvasz', 1.704106330871582), ('Great pyrenees', 0.6640768051147461), ('Labrador retriever', -0.6828897595405579), ('Border collie', -0.936854898929596)]\n"
     ]
    }
   ],
   "source": [
    "!python test.py -t model"
   ]
  },
  {
   "cell_type": "markdown",
   "id": "b358e5bf-003d-48a6-9da2-de52babe1f70",
   "metadata": {
    "jp-MarkdownHeadingCollapsed": true
   },
   "source": [
    "### Gateway container from Dockerfile"
   ]
  },
  {
   "cell_type": "markdown",
   "id": "b9cca949-ed77-4612-8c5a-86de91aa0da4",
   "metadata": {},
   "source": [
    "- Create a dockerfile for the gateway with flask front-end. It's saved to the kubernetes folder as [image-gateway.dockerfile](../kubernetes/image-gateway.dockerfile).\n",
    "  - Builds the environment with [Pipfile](../kubernetes/Pipfile) and [Pipfile.lock](../kubernetes/Pipfile.lock)\n",
    "  - Uses the python files [gateway.py](../kubernetes/gateway.py) and [proto.py](../kubernetes/proto.py) for prediction\n",
    "- Build the container\n",
    "- Run at port 9696"
   ]
  },
  {
   "cell_type": "markdown",
   "id": "cb0f21aa-0c9c-4b2e-ab02-c14170997294",
   "metadata": {},
   "source": [
    "Next create a dockerfile for our gateway. It's saved to the kubernetes folder as [image-model.dockerfile](../kubernetes/image-model.dockerfile)."
   ]
  },
  {
   "cell_type": "markdown",
   "id": "3230c5f2-1ea9-4a5d-827d-2ac63dd7e2d0",
   "metadata": {},
   "source": [
    "**DOCKERFILE**\n",
    "> FROM python:3.8.12-slim\n",
    "> \n",
    "> RUN pip install pipenv\n",
    "> \n",
    "> WORKDIR /app\n",
    "> \n",
    "> COPY [\"Pipfile\", \"Pipfile.lock\", \"./\"]\n",
    "> \n",
    "> RUN pipenv install --system --deploy\n",
    "> \n",
    "> COPY [\"gateway.py\", \"proto.py\". \"./\"]\n",
    "> \n",
    "> EXPOSE 9696\n",
    "> \n",
    "> ENTRYPOINT [\"gunicorn\", \"--bind=0.0.0.0:9696\", \"gateway:app\"]\n",
    "\n",
    "**BUILD**\n",
    "\n",
    "> docker build -t dog-prediction-gateway:v1 -f kubernetes/image-gateway.dockerfile .\n",
    "\n",
    "**RUN**\n",
    "\n",
    "> docker run -it --rm -p 9696:9696 dog-prediction-gateway:v1\n",
    "\n"
   ]
  },
  {
   "cell_type": "markdown",
   "id": "7414b397-733d-4fc5-b2dd-392aef188091",
   "metadata": {},
   "source": [
    "The following will currently fail with grpc_status 14, meaning that the gateway at port 9696 cannot locate and connect to the serving model at port 8500. We solve this using docker compose to connect the two ports within one multi-container network."
   ]
  },
  {
   "cell_type": "code",
   "execution_count": 78,
   "id": "2fdc6e9a",
   "metadata": {},
   "outputs": [
    {
     "name": "stdout",
     "output_type": "stream",
     "text": [
      "<Response [500]>\n"
     ]
    }
   ],
   "source": [
    "url = 'http://localhost:9696/predict'\n",
    "\n",
    "img = download_image(image_url)\n",
    "\n",
    "img = img.resize((299, 299), Image.NEAREST)\n",
    "bytes=img.tobytes()\n",
    "decoded_image = base64.b64encode(bytes).decode(\"utf8\")\n",
    "\n",
    "data = {'image': decoded_image, 'size': (299, 299)}\n",
    "result = requests.post(url, json=data)\n",
    "print(result)"
   ]
  },
  {
   "cell_type": "markdown",
   "id": "5b36f2ea-94e7-43ec-a6ae-de83075df3b8",
   "metadata": {
    "jp-MarkdownHeadingCollapsed": true
   },
   "source": [
    "### Multi-container network with Docker Compose"
   ]
  },
  {
   "cell_type": "markdown",
   "id": "810aebc2-457d-4b32-952f-196888b85395",
   "metadata": {},
   "source": [
    "To connect the gateway (port 9696) to the serving model (port 8500), start a virtual network using docker-compose. The following is saved to [docker-compose.yaml](../kubernetes/docker-compose.yaml).\n",
    "\n",
    "**DOCKERFILE**\n",
    "\n",
    ">version: \"3.9\" <br>\n",
    ">services: <br>\n",
    ">&emsp; dog-model: <br>\n",
    ">&emsp; &emsp; image: dog-prediction-model:v1 <br>\n",
    ">&emsp; gateway: <br>\n",
    ">&emsp; &emsp; image: dog-prediction-gateway:v1 <br>\n",
    ">&emsp; &emsp; environment: <br>\n",
    ">&emsp; &emsp; &emsp; - TF_SERVING_HOST=dog-model:8500 <br>\n",
    ">&emsp; &emsp; ports: <br>\n",
    ">&emsp; &emsp; &emsp; - \"9696:9696\" <br>"
   ]
  },
  {
   "cell_type": "markdown",
   "id": "24e09be3-67cc-44b9-a0b1-4e5452eaa296",
   "metadata": {},
   "source": [
    "**RUN**\n",
    "> docker-compose up\n",
    "\n",
    "**SHUT DOWN**\n",
    "> docker-compose down"
   ]
  },
  {
   "cell_type": "markdown",
   "id": "37a5a5e3-25ea-42ed-8a3d-e2ae0c20488b",
   "metadata": {},
   "source": [
    "Now while the multi-container network is running, the following blocks will ping the gateway, which will then ping the model to return the predictions."
   ]
  },
  {
   "cell_type": "code",
   "execution_count": 79,
   "id": "b5117c32",
   "metadata": {},
   "outputs": [
    {
     "name": "stdout",
     "output_type": "stream",
     "text": [
      "[['Golden retriever', 4.919919967651367], ['Kuvasz', 1.704106330871582], ['Great pyrenees', 0.6640768051147461], ['Labrador retriever', -0.6828897595405579], ['Border collie', -0.936854898929596]]\n"
     ]
    }
   ],
   "source": [
    "url = 'http://localhost:9696/predict'\n",
    "\n",
    "img = download_image(image_url)\n",
    "\n",
    "img = img.resize((299, 299), Image.NEAREST)\n",
    "bytes=img.tobytes()\n",
    "decoded_image = base64.b64encode(bytes).decode(\"utf8\")\n",
    "\n",
    "data = {'image': decoded_image, 'size': (299, 299)}\n",
    "result = requests.post(url, json=data).json()\n",
    "print(result)"
   ]
  },
  {
   "cell_type": "code",
   "execution_count": 80,
   "id": "e55ffa1e",
   "metadata": {},
   "outputs": [
    {
     "name": "stdout",
     "output_type": "stream",
     "text": [
      "[['Golden retriever', 4.919919967651367], ['Kuvasz', 1.704106330871582], ['Great pyrenees', 0.6640768051147461], ['Labrador retriever', -0.6828897595405579], ['Border collie', -0.936854898929596]]\n"
     ]
    }
   ],
   "source": [
    "!python test.py -t gateway"
   ]
  },
  {
   "cell_type": "markdown",
   "id": "38c06559-b747-4569-8f63-e07a297fc8ed",
   "metadata": {},
   "source": [
    "### Local kubernetes cluster (kind + kubectl)"
   ]
  },
  {
   "cell_type": "markdown",
   "id": "de0ba423-550d-4068-ae24-fb6cdb7ec03e",
   "metadata": {},
   "source": [
    "1. Install kubectl, the kubernetes command line tool. **Note** that Docker Desktop for both Windows and MacOS already includes kubectl. Installation instructions for all major platforms are available in the [official Kubernetes website](https://kubernetes.io/docs/tasks/tools/).\n",
    "2. Install kind, which lets you create local kubernetes clusters with Docker. Installation instructions are available on the [official website](https://kind.sigs.k8s.io/docs/user/quick-start/)."
   ]
  },
  {
   "cell_type": "markdown",
   "id": "00285204",
   "metadata": {},
   "source": [
    "**Model Pod**\n",
    "\n",
    "> docker build -t dog-prediction-model:v1 -f kubernetes/image-model.dockerfile .\n",
    ">\n",
    "> kind create cluster\n",
    ">\n",
    "> kind load docker-image dog-prediction-model:v1\n",
    ">\n",
    "> kubectl apply -f kubernetes/model-deployment.yaml\n",
    ">\n",
    "> kubectl get pod\n",
    ">\n",
    "> kubectl port-forward {name from get pod} 8500:8500"
   ]
  },
  {
   "cell_type": "code",
   "execution_count": 74,
   "id": "d3b1813e",
   "metadata": {},
   "outputs": [
    {
     "name": "stdout",
     "output_type": "stream",
     "text": [
      "NAME                                    READY   STATUS    RESTARTS   AGE\n",
      "dog-prediction-model-76d94b8cdd-5jp2m   1/1     Running   0          53m\n"
     ]
    }
   ],
   "source": [
    "!kubectl get pod\n",
    "# next you would run kubectl port-forward dog-prediction-model-76d94b8cdd-5jp2m 8500:8500"
   ]
  },
  {
   "cell_type": "code",
   "execution_count": 81,
   "id": "f342317c",
   "metadata": {},
   "outputs": [
    {
     "name": "stdout",
     "output_type": "stream",
     "text": [
      "[('Golden retriever', 4.919919967651367), ('Kuvasz', 1.704106330871582), ('Great pyrenees', 0.6640768051147461), ('Labrador retriever', -0.6828897595405579), ('Border collie', -0.936854898929596)]\n"
     ]
    }
   ],
   "source": [
    "!python test.py -t model"
   ]
  },
  {
   "cell_type": "markdown",
   "id": "5a47fe30",
   "metadata": {},
   "source": [
    "**Model Service**\n",
    "\n",
    "> kubectl apply -f kubernetes/model-service.yaml\n",
    ">\n",
    "> kubectl port-forward service/dog-prediction-model 8500:8500  "
   ]
  },
  {
   "cell_type": "code",
   "execution_count": 82,
   "id": "fcb04690",
   "metadata": {},
   "outputs": [
    {
     "name": "stdout",
     "output_type": "stream",
     "text": [
      "[('Golden retriever', 4.919919967651367), ('Kuvasz', 1.704106330871582), ('Great pyrenees', 0.6640768051147461), ('Labrador retriever', -0.6828897595405579), ('Border collie', -0.936854898929596)]\n"
     ]
    }
   ],
   "source": [
    "!python test.py -t model"
   ]
  },
  {
   "cell_type": "markdown",
   "id": "72b79d24",
   "metadata": {},
   "source": [
    "**Deployment Pod**\n",
    "\n",
    "> docker build -t dog-prediction-gateway:v1 -f kubernetes/image-gateway.dockerfile .\n",
    ">\n",
    "> kind load docker-image dog-prediction-gateway:v1\n",
    ">\n",
    "> kubectl delete -f kubernetes/gateway-deployment.yaml\n",
    ">\n",
    "> kubectl apply -f kubernetes/gateway-deployment.yaml\n",
    ">\n",
    "> kubectl get pod\n",
    ">\n",
    "> kubectl port-forward {name from get pod} 9696:9696"
   ]
  },
  {
   "cell_type": "markdown",
   "id": "98c166b0",
   "metadata": {},
   "source": [
    "**Test Deployment**\n"
   ]
  },
  {
   "cell_type": "markdown",
   "id": "2ec6330b",
   "metadata": {},
   "source": [
    "> kubectl exec -it {name from get pod} -- bash\n",
    "> \n",
    "> apt update\n",
    ">\n",
    "> apt install telnet\n",
    ">\n",
    "> telnet dog-prediction-model.default.svc.cluster.local 8500\n",
    "> \n",
    "> exit"
   ]
  },
  {
   "cell_type": "code",
   "execution_count": 71,
   "id": "3b2c8724",
   "metadata": {},
   "outputs": [
    {
     "name": "stdout",
     "output_type": "stream",
     "text": [
      "[['Golden retriever', 4.919919967651367], ['Kuvasz', 1.704106330871582], ['Great pyrenees', 0.6640768051147461], ['Labrador retriever', -0.6828897595405579], ['Border collie', -0.936854898929596]]\n"
     ]
    }
   ],
   "source": [
    "!python test.py -t gateway"
   ]
  },
  {
   "cell_type": "markdown",
   "id": "372274fa",
   "metadata": {},
   "source": [
    "**Gateway Service**\n",
    "\n",
    "> kubectl apply -f kubernetes/gateway-service.yaml \n",
    "> \n",
    "> kubectl port-forward service/dog-prediction-gateway 8080:80"
   ]
  },
  {
   "cell_type": "code",
   "execution_count": 85,
   "id": "60e7d2bb",
   "metadata": {},
   "outputs": [
    {
     "name": "stdout",
     "output_type": "stream",
     "text": [
      "[['Golden retriever', 4.919919967651367], ['Kuvasz', 1.704106330871582], ['Great pyrenees', 0.6640768051147461], ['Labrador retriever', -0.6828897595405579], ['Border collie', -0.936854898929596]]\n"
     ]
    }
   ],
   "source": [
    "!python test.py -t kube"
   ]
  },
  {
   "cell_type": "markdown",
   "id": "97d2432d-8a28-436c-8680-1c5a532146ec",
   "metadata": {},
   "source": [
    "## 6.2 EKS Deployment"
   ]
  },
  {
   "cell_type": "markdown",
   "id": "6825acdc",
   "metadata": {},
   "source": [
    "### Determine cluster size"
   ]
  },
  {
   "cell_type": "markdown",
   "id": "d1cbeff7",
   "metadata": {},
   "source": [
    "Before deploying to EKS, let's check how many resources (CPU and memory) we'll need. Run the following block to scroll down to the allocated resources section. We can see that our limits include 500m CPU, which is half of a CPU unit, and 1518Mi memory which is around 1.6GB."
   ]
  },
  {
   "cell_type": "code",
   "execution_count": 25,
   "id": "04d36a6a",
   "metadata": {},
   "outputs": [
    {
     "name": "stdout",
     "output_type": "stream",
     "text": [
      "Name:               kind-control-plane\n",
      "Roles:              control-plane\n",
      "Labels:             beta.kubernetes.io/arch=amd64\n",
      "                    beta.kubernetes.io/os=linux\n",
      "                    kubernetes.io/arch=amd64\n",
      "                    kubernetes.io/hostname=kind-control-plane\n",
      "                    kubernetes.io/os=linux\n",
      "                    node-role.kubernetes.io/control-plane=\n",
      "                    node.kubernetes.io/exclude-from-external-load-balancers=\n",
      "Annotations:        kubeadm.alpha.kubernetes.io/cri-socket: unix:///run/containerd/containerd.sock\n",
      "                    node.alpha.kubernetes.io/ttl: 0\n",
      "                    volumes.kubernetes.io/controller-managed-attach-detach: true\n",
      "CreationTimestamp:  Wed, 14 Feb 2024 11:18:22 -0500\n",
      "Taints:             <none>\n",
      "Unschedulable:      false\n",
      "Lease:\n",
      "  HolderIdentity:  kind-control-plane\n",
      "  AcquireTime:     <unset>\n",
      "  RenewTime:       Thu, 15 Feb 2024 14:20:45 -0500\n",
      "Conditions:\n",
      "  Type             Status  LastHeartbeatTime                 LastTransitionTime                Reason                       Message\n",
      "  ----             ------  -----------------                 ------------------                ------                       -------\n",
      "  MemoryPressure   False   Thu, 15 Feb 2024 14:16:00 -0500   Wed, 14 Feb 2024 11:18:20 -0500   KubeletHasSufficientMemory   kubelet has sufficient memory available\n",
      "  DiskPressure     False   Thu, 15 Feb 2024 14:16:00 -0500   Wed, 14 Feb 2024 11:18:20 -0500   KubeletHasNoDiskPressure     kubelet has no disk pressure\n",
      "  PIDPressure      False   Thu, 15 Feb 2024 14:16:00 -0500   Wed, 14 Feb 2024 11:18:20 -0500   KubeletHasSufficientPID      kubelet has sufficient PID available\n",
      "  Ready            True    Thu, 15 Feb 2024 14:16:00 -0500   Wed, 14 Feb 2024 11:18:40 -0500   KubeletReady                 kubelet is posting ready status\n",
      "Addresses:\n",
      "  InternalIP:  172.18.0.2\n",
      "  Hostname:    kind-control-plane\n",
      "Capacity:\n",
      "  cpu:                16\n",
      "  ephemeral-storage:  1055762868Ki\n",
      "  hugepages-1Gi:      0\n",
      "  hugepages-2Mi:      0\n",
      "  memory:             16320836Ki\n",
      "  pods:               110\n",
      "Allocatable:\n",
      "  cpu:                16\n",
      "  ephemeral-storage:  1055762868Ki\n",
      "  hugepages-1Gi:      0\n",
      "  hugepages-2Mi:      0\n",
      "  memory:             16320836Ki\n",
      "  pods:               110\n",
      "System Info:\n",
      "  Machine ID:                 3eddc209e5f6401297465fb6ae760dc9\n",
      "  System UUID:                3eddc209e5f6401297465fb6ae760dc9\n",
      "  Boot ID:                    fdfc0e71-7658-481c-9833-dbd6d03cd2a1\n",
      "  Kernel Version:             5.15.133.1-microsoft-standard-WSL2\n",
      "  OS Image:                   Debian GNU/Linux 12 (bookworm)\n",
      "  Operating System:           linux\n",
      "  Architecture:               amd64\n",
      "  Container Runtime Version:  containerd://1.7.13\n",
      "  Kubelet Version:            v1.29.1\n",
      "  Kube-Proxy Version:         v1.29.1\n",
      "PodCIDR:                      10.244.0.0/24\n",
      "PodCIDRs:                     10.244.0.0/24\n",
      "ProviderID:                   kind://docker/kind/kind-control-plane\n",
      "Non-terminated Pods:          (11 in total)\n",
      "  Namespace                   Name                                          CPU Requests  CPU Limits  Memory Requests  Memory Limits  Age\n",
      "  ---------                   ----                                          ------------  ----------  ---------------  -------------  ---\n",
      "  default                     dog-prediction-gateway-5d4f94b669-lnkbw       200m (1%)     200m (1%)   128Mi (0%)       128Mi (0%)     14m\n",
      "  default                     dog-prediction-model-76d94b8cdd-6p8br         200m (1%)     200m (1%)   1000Mi (6%)      1000Mi (6%)    4h21m\n",
      "  kube-system                 coredns-76f75df574-f6d9l                      100m (0%)     0 (0%)      70Mi (0%)        170Mi (1%)     27h\n",
      "  kube-system                 coredns-76f75df574-nwrdz                      100m (0%)     0 (0%)      70Mi (0%)        170Mi (1%)     27h\n",
      "  kube-system                 etcd-kind-control-plane                       100m (0%)     0 (0%)      100Mi (0%)       0 (0%)         27h\n",
      "  kube-system                 kindnet-frnz8                                 100m (0%)     100m (0%)   50Mi (0%)        50Mi (0%)      27h\n",
      "  kube-system                 kube-apiserver-kind-control-plane             250m (1%)     0 (0%)      0 (0%)           0 (0%)         27h\n",
      "  kube-system                 kube-controller-manager-kind-control-plane    200m (1%)     0 (0%)      0 (0%)           0 (0%)         27h\n",
      "  kube-system                 kube-proxy-lbd7z                              0 (0%)        0 (0%)      0 (0%)           0 (0%)         27h\n",
      "  kube-system                 kube-scheduler-kind-control-plane             100m (0%)     0 (0%)      0 (0%)           0 (0%)         27h\n",
      "  local-path-storage          local-path-provisioner-7577fdbbfb-6rrnf       0 (0%)        0 (0%)      0 (0%)           0 (0%)         27h\n",
      "Allocated resources:\n",
      "  (Total limits may be over 100 percent, i.e., overcommitted.)\n",
      "  Resource           Requests     Limits\n",
      "  --------           --------     ------\n",
      "  cpu                1350m (8%)   500m (3%)\n",
      "  memory             1418Mi (8%)  1518Mi (9%)\n",
      "  ephemeral-storage  0 (0%)       0 (0%)\n",
      "  hugepages-1Gi      0 (0%)       0 (0%)\n",
      "  hugepages-2Mi      0 (0%)       0 (0%)\n",
      "Events:              <none>\n"
     ]
    }
   ],
   "source": [
    "!kubectl describe nodes"
   ]
  },
  {
   "cell_type": "markdown",
   "id": "9525d704",
   "metadata": {},
   "source": [
    "Our EKS cluster will be hosted on an EC2 instance. The on-demand pricing for different instances can be found here: [https://aws.amazon.com/ec2/pricing/on-demand/](https://aws.amazon.com/ec2/pricing/on-demand/). For this project, we don't expect a high amount of traffic, so given our limits, a t3.small instance should be sufficient. It provides 2 CPU units, with 2GB of memory. The full cost breakdown for running one cluster is shown below:"
   ]
  },
  {
   "cell_type": "code",
   "execution_count": 30,
   "id": "787bfc24",
   "metadata": {},
   "outputs": [
    {
     "data": {
      "text/plain": [
       "86.97600000000001"
      ]
     },
     "execution_count": 30,
     "metadata": {},
     "output_type": "execute_result"
    }
   ],
   "source": [
    "# 0.0208/hr * 24hr/day * 30days/month\n",
    "monthly_ec2_price = 0.0208*24*30\n",
    "monthly_cluster_price = 0.10*24*30\n",
    "monthly_price = monthly_ec2_price + monthly_cluster_price\n",
    "monthly_price"
   ]
  },
  {
   "cell_type": "markdown",
   "id": "c1f6a8a4",
   "metadata": {},
   "source": [
    "### Create cluster"
   ]
  },
  {
   "cell_type": "markdown",
   "id": "6fd6a7c7",
   "metadata": {},
   "source": [
    "The config file for setting up the clusters is [eks-config.yaml](../kubernetes/eks-config.yaml). Change the region to the same region used in section 5.2 for your ECR repository. Ensure that you are logged into an user account with sufficient permissions for deploying a cluster, then run the following command. If it fails due to insufficient priviledges, try giving the user admin access with AWS IAM and attempt to re-run.\n",
    "\n",
    "> eksctl create cluster -f kubernetes/eks-config.yaml\n",
    "\n",
    "If there are any issues during cluster creation, open CloudFormation in the AWS console and delete the stack created by this cluster. Use the same {REGION} as in eks-config.yaml.\n",
    "\n",
    "> eksctl delete cluster --name=dog-prediction-eks --disable-nodegroup-eviction"
   ]
  },
  {
   "cell_type": "markdown",
   "id": "b666a4dd",
   "metadata": {},
   "source": [
    "### Push docker images"
   ]
  },
  {
   "cell_type": "markdown",
   "id": "1a5c555a",
   "metadata": {},
   "source": [
    "If logged out, login to your account via the command line with the following\n",
    "\n",
    "> aws ecr get-login-password --region {REGION} | docker login --username AWS --password-stdin {AWS_ACCOUNT_ID}.dkr.ecr.{REGION}.amazonaws.com\n",
    "\n",
    "Tag and push your local docker images to the AWS ECR registry we previously created, dog-prediction-images\n",
    "\n",
    "> docker tag dog-prediction-gateway:v1 {AWS_ACCOUNT_ID}.dkr.ecr.{REGION}.amazonaws.com/dog-prediction-images:dog-prediction-gateway\n",
    ">\n",
    "> docker tag dog-prediction-model:v1 {AWS_ACCOUNT_ID}.dkr.ecr.{REGION}.amazonaws.com/dog-prediction-images:dog-prediction-model\n",
    ">\n",
    "> docker push {AWS_ACCOUNT_ID}.dkr.ecr.{REGION}.amazonaws.com/dog-prediction-images:dog-prediction-model\n",
    "> \n",
    "> docker push {AWS_ACCOUNT_ID}.dkr.ecr.{REGION}.amazonaws.com/dog-prediction-images:dog-prediction-gateway"
   ]
  },
  {
   "cell_type": "markdown",
   "id": "2e393997",
   "metadata": {},
   "source": [
    "### Create pods and services"
   ]
  },
  {
   "cell_type": "markdown",
   "id": "70941088",
   "metadata": {},
   "source": [
    "Update the image on line 17 in gateway-deployment.yaml and model-deployment.yaml from:\n",
    "- `dog-prediction-model:v1` to `{AWS_ACCOUNT_ID}.dkr.ecr.{REGION}.amazonaws.com/dog-prediction-images:dog-prediction-model`\n",
    "- `dog-prediction-gateway:v1` to `{AWS_ACCOUNT_ID}.dkr.ecr.{REGION}.amazonaws.com/dog-prediction-images:dog-prediction-gateway`\n",
    "\n",
    "Then set up the pods and services on the cloud using:\n",
    "\n",
    "> kubectl apply -f kubernetes/model-deployment.yaml\n",
    "> \n",
    "> kubectl apply -f kubernetes/model-service.yaml\n",
    "> \n",
    "> kubectl get pod # check if the pod is active\n",
    "> \n",
    "> kubectl get service # check if service is working\n",
    "\n",
    "Then set up port-forwarding and test that the pod in EKS is running properly\n",
    "\n",
    "> kubectl port-forward service/dog-prediction-model 8500:8500\n"
   ]
  },
  {
   "cell_type": "code",
   "execution_count": 40,
   "id": "cbb5b852",
   "metadata": {},
   "outputs": [
    {
     "name": "stdout",
     "output_type": "stream",
     "text": [
      "[('Golden retriever', 4.919922351837158), ('Kuvasz', 1.7041029930114746), ('Great pyrenees', 0.664074182510376), ('Labrador retriever', -0.6828885078430176), ('Border collie', -0.9368550181388855)]\n"
     ]
    }
   ],
   "source": [
    "!python ../kubernetes/test.py -t model"
   ]
  },
  {
   "cell_type": "markdown",
   "id": "02b45109",
   "metadata": {},
   "source": [
    "\n",
    "> kubectl apply -f kubernetes/gateway-deployment.yaml\n",
    "> \n",
    "> kubectl apply -f kubernetes/gateway-service.yaml\n",
    "> \n",
    "> kubectl get service\n",
    "\n",
    "Copy the EXTERNAL-IP from the dog-prediction-gateway service to the URL below to test it"
   ]
  },
  {
   "cell_type": "code",
   "execution_count": 46,
   "id": "de89a834",
   "metadata": {},
   "outputs": [
    {
     "data": {
      "text/plain": [
       "[['Golden retriever', 4.919922351837158],\n",
       " ['Kuvasz', 1.7041029930114746],\n",
       " ['Great pyrenees', 0.664074182510376],\n",
       " ['Labrador retriever', -0.6828885078430176],\n",
       " ['Border collie', -0.9368550181388855]]"
      ]
     },
     "execution_count": 46,
     "metadata": {},
     "output_type": "execute_result"
    }
   ],
   "source": [
    "url = 'http://a75f34f3ce47c415d95250929a7b4f40-338112221.us-east-1.elb.amazonaws.com/predict'\n",
    "data = {'url': image_url}\n",
    "result = requests.post(url, json=data).json()\n",
    "result"
   ]
  },
  {
   "cell_type": "code",
   "execution_count": 44,
   "id": "9ab60f7e",
   "metadata": {},
   "outputs": [
    {
     "name": "stdout",
     "output_type": "stream",
     "text": [
      "[['Golden retriever', 4.919922351837158], ['Kuvasz', 1.7041029930114746], ['Great pyrenees', 0.664074182510376], ['Labrador retriever', -0.6828885078430176], ['Border collie', -0.9368550181388855]]\n"
     ]
    }
   ],
   "source": [
    "!python ../kubernetes/test.py -t eks"
   ]
  },
  {
   "cell_type": "markdown",
   "id": "d4d3137e",
   "metadata": {},
   "source": [
    "### Delete cluster"
   ]
  },
  {
   "cell_type": "markdown",
   "id": "3d29c276",
   "metadata": {},
   "source": [
    "To ensure that the eks cluster doesn't rack up significant costs, it can be deleted with the following\n",
    "\n",
    "> eksctl delete cluster --name=dog-prediction-eks --disable-nodegroup-eviction"
   ]
  },
  {
   "cell_type": "markdown",
   "id": "1d8a892b",
   "metadata": {},
   "source": [
    "> \n",
    "> \n",
    "> \n",
    "> \n",
    "> \n",
    "> "
   ]
  },
  {
   "cell_type": "markdown",
   "id": "0b32e10b-acfd-4894-8815-78d6a02ac37d",
   "metadata": {},
   "source": [
    "# 7. Application Deployment"
   ]
  },
  {
   "cell_type": "code",
   "execution_count": null,
   "id": "010f6d82",
   "metadata": {},
   "outputs": [],
   "source": []
  },
  {
   "cell_type": "code",
   "execution_count": null,
   "id": "aec8f4ee",
   "metadata": {},
   "outputs": [],
   "source": []
  },
  {
   "cell_type": "code",
   "execution_count": null,
   "id": "8ac2f474",
   "metadata": {},
   "outputs": [],
   "source": []
  },
  {
   "cell_type": "code",
   "execution_count": null,
   "id": "2ce88940",
   "metadata": {},
   "outputs": [],
   "source": []
  },
  {
   "cell_type": "markdown",
   "id": "92a7ab50-1c70-467c-a530-7fc04cc51808",
   "metadata": {},
   "source": [
    "## 7.1 Streamlit Application"
   ]
  },
  {
   "cell_type": "markdown",
   "id": "338b9e54-2b7b-4efd-8cd7-3415f6cacf61",
   "metadata": {},
   "source": [
    "# 7. References"
   ]
  },
  {
   "cell_type": "markdown",
   "id": "e1d91f4a-fc0c-46a5-ae60-9ce38eb60dcd",
   "metadata": {},
   "source": [
    "1. Chollet, François (2016). _“xception: Deep Learning with Depthwise Separable Convolutions”_. In: CoRR abs/1610.02357. arXiv: 1610.02357. url: [http://\n",
    "arxiv.org/abs/1610.02357](http://arxiv.org/abs/1610.02357).\n",
    "\n",
    "2. Szegedy, Christian, Ioffe, Sergey, and Vanhoucke, Vincent (2016). _“Inception-v4, Inception-ResNet and the Impact of Residual Connections on Learning”_. In: CoRR abs/1602.07261. arXiv: 1602.07261. url: [http://arxiv.org/abs/1602.07261](https://arxiv.org/abs/1602.07261).\n",
    "   \n",
    "3. Sandler, Mark, Howard, Andrew G., Zhu, Menglong, Zhmoginov, Andrey, and Chen, Liang-Chieh (2018). _“Inverted Residuals and Linear Bottlenecks: Mobile Networks for Classification, Detection and Segmentation”_. In: CoRR abs/1801.04381. arXiv: 1801 . 04381. url: [https://arxiv.org/abs/1801.04381](https://arxiv.org/abs/1801.04381).\n",
    "   \n",
    "4. Tan, Mingxing, Chen, Bo, Pang, Ruoming, Vasudevan, Vijay, Sandler, Mark, Howard, Andrew, and Le, Quoc V. (2019). _MnasNet: Platform-Aware Neural Architecture Search for Mobile_. arXiv: [1807.11626 \\[cs.CV\\]](https://arxiv.org/abs/1807.11626).\n",
    "\n",
    "5. Tan, Mingxing and Le, Quoc V. (2020). _EfficientNet: Rethinking Model Scaling for Convolutional Neural Networks_. arXiv: [1905.11946 \\[cs.LG\\]](https://arxiv.org/abs/1905.11946).\n",
    "\n",
    "6. Liu, Ze, Lin, Yutong, Cao, Yue, Hu, Han, Wei, Yixuan, Zhang, Zheng, Lin, Stephen, and Guo, Baining (2021). _Swin Transformer: Hierarchical Vision Transformer using Shifted Windows_. arXiv: [2103.14030 \\[cs.CV\\]](https://arxiv.org/abs/2103.14030).\n",
    "\n",
    "7. Liu, Zhuang, Mao, Hanzi, Wu, Chao-Yuan, Feichtenhofer, Christoph, Darrell, Trevor, and Xie, Saining (2022). _“A ConvNet for the 2020s”_. In: CoRR abs/2201.03545. arXiv: 2201 . 03545. url: [https://arxiv.org/abs/2201.03545](https://arxiv.org/abs/2201.03545)\n",
    "\n",
    "8. Aditya Khosla, Nityananda Jayadevaprakash, Bangpeng Yao and Li Fei-Fei. Novel dataset for Fine-Grained Image Categorization. First Workshop on Fine-Grained Visual Categorization (FGVC), IEEE Conference on Computer Vision and Pattern Recognition (CVPR), 2011.\n",
    "\n",
    "9. J. Deng, W. Dong, R. Socher, L.-J. Li, K. Li and L. Fei-Fei, ImageNet: A Large-Scale Hierarchical Image Database. IEEE Computer Vision and Pattern Recognition (CVPR), 2009.\n",
    "    \n",
    "10. Fu, Y. (2020, June 30). Keras documentation: Image Classification via fine-tuning with EfficientNet. [https://keras.io/examples/vision/image_classification_efficientnet_fine_tuning/](https://keras.io/examples/vision/image_classification_efficientnet_fine_tuning/)"
   ]
  }
 ],
 "metadata": {
  "kernelspec": {
   "display_name": "Python 3 (ipykernel)",
   "language": "python",
   "name": "python3"
  },
  "language_info": {
   "codemirror_mode": {
    "name": "ipython",
    "version": 3
   },
   "file_extension": ".py",
   "mimetype": "text/x-python",
   "name": "python",
   "nbconvert_exporter": "python",
   "pygments_lexer": "ipython3",
   "version": "3.10.13"
  }
 },
 "nbformat": 4,
 "nbformat_minor": 5
}
